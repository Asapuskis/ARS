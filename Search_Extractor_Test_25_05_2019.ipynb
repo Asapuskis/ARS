{
 "cells": [
  {
   "cell_type": "code",
   "execution_count": 1,
   "metadata": {
    "ExecuteTime": {
     "end_time": "2019-05-25T16:25:00.753820Z",
     "start_time": "2019-05-25T16:25:00.559539Z"
    }
   },
   "outputs": [],
   "source": [
    "import tweepy\n",
    "import json\n",
    "from pymongo import MongoClient\n",
    "\n",
    "####input your credentials here\n",
    "consumer_key = 'gzD6MQ2avHhrPqbclNj4UyEHY'\n",
    "consumer_secret = 'flGBPcuwbx2NXTx9KyQyuzb2IqDhOgpdaoSCBPc7yb5WZcFa7H'\n",
    "access_token = '1004753837956182016-xFYqwjXC658m6BJGkhRjTRiHXurFcc'\n",
    "access_token_secret = 'XuSN6k7LuSPfcKgigT4VwLa3IbXXPJAWfGNTd5LzIpEc9'\n",
    "\n",
    "auth = tweepy.OAuthHandler(consumer_key, consumer_secret)\n",
    "auth.set_access_token(access_token, access_token_secret)\n",
    "api = tweepy.API(auth,wait_on_rate_limit=True)\n",
    "\n",
    "client = MongoClient()       \n",
    "db = client.test_sabado\n",
    "    \n",
    "\n",
    "    \n",
    "    \n",
    "#for tweet in tweepy.Cursor(api.search,q=\"#unitedAIRLINES\",count=100,\n",
    "#                           lang=\"en\",\n",
    "#                           since=\"2017-04-03\",tweet_mode= 'extended').items():"
   ]
  },
  {
   "cell_type": "code",
   "execution_count": 2,
   "metadata": {
    "ExecuteTime": {
     "end_time": "2019-05-25T16:30:07.329495Z",
     "start_time": "2019-05-25T16:29:56.172847Z"
    }
   },
   "outputs": [],
   "source": [
    "for tweet in tweepy.Cursor(api.search,q=(\"#debatetelemadrid\"),count=100,tweet_mode= 'extended').items(10000):\n",
    "    db.debatetm.insert_one(tweet._json)"
   ]
  },
  {
   "cell_type": "code",
   "execution_count": 4,
   "metadata": {
    "ExecuteTime": {
     "end_time": "2019-05-23T17:32:02.225358Z",
     "start_time": "2019-05-23T17:32:02.220170Z"
    }
   },
   "outputs": [],
   "source": [
    "tweet_prueba = db.gameofthrones.find_one()\n",
    "    "
   ]
  },
  {
   "cell_type": "code",
   "execution_count": 11,
   "metadata": {
    "ExecuteTime": {
     "end_time": "2019-05-23T17:35:05.296229Z",
     "start_time": "2019-05-23T17:35:05.284052Z"
    }
   },
   "outputs": [
    {
     "name": "stdout",
     "output_type": "stream",
     "text": [
      "extratv\n"
     ]
    }
   ],
   "source": []
  },
  {
   "cell_type": "code",
   "execution_count": 19,
   "metadata": {
    "ExecuteTime": {
     "end_time": "2019-05-23T17:42:06.779212Z",
     "start_time": "2019-05-23T17:42:06.771148Z"
    }
   },
   "outputs": [
    {
     "name": "stdout",
     "output_type": "stream",
     "text": [
      "283249734\n"
     ]
    }
   ],
   "source": [
    "# AUTOR\n",
    "print(tweet_prueba['user']['id_str'])"
   ]
  },
  {
   "cell_type": "code",
   "execution_count": 16,
   "metadata": {
    "ExecuteTime": {
     "end_time": "2019-05-23T17:36:56.861512Z",
     "start_time": "2019-05-23T17:36:56.854394Z"
    }
   },
   "outputs": [
    {
     "name": "stdout",
     "output_type": "stream",
     "text": [
      "15676578\n"
     ]
    }
   ],
   "source": [
    "# SI RT\n",
    "if 'retweeted_status' in tweet_prueba:\n",
    "    print(tweet_prueba['retweeted_status']['user']['id_str'])"
   ]
  },
  {
   "cell_type": "code",
   "execution_count": 18,
   "metadata": {
    "ExecuteTime": {
     "end_time": "2019-05-23T17:37:34.016522Z",
     "start_time": "2019-05-23T17:37:34.012069Z"
    }
   },
   "outputs": [],
   "source": [
    "# SI QUOTE\n",
    "if 'quote_status' in tweet_prueba:\n",
    "    print(tweet_prueba['quote_status']['user']['id_str'])"
   ]
  },
  {
   "cell_type": "code",
   "execution_count": null,
   "metadata": {},
   "outputs": [],
   "source": [
    "# SI REPLY\n",
    "if tweet_prueba['in_reply_to_user_id_str']:\n",
    "    print(tweet_prueba['in_reply_to_user_id_str'])"
   ]
  },
  {
   "cell_type": "code",
   "execution_count": null,
   "metadata": {},
   "outputs": [],
   "source": []
  }
 ],
 "metadata": {
  "kernelspec": {
   "display_name": "Python 3",
   "language": "python",
   "name": "python3"
  },
  "language_info": {
   "codemirror_mode": {
    "name": "ipython",
    "version": 3
   },
   "file_extension": ".py",
   "mimetype": "text/x-python",
   "name": "python",
   "nbconvert_exporter": "python",
   "pygments_lexer": "ipython3",
   "version": "3.7.1"
  },
  "varInspector": {
   "cols": {
    "lenName": 16,
    "lenType": 16,
    "lenVar": 40
   },
   "kernels_config": {
    "python": {
     "delete_cmd_postfix": "",
     "delete_cmd_prefix": "del ",
     "library": "var_list.py",
     "varRefreshCmd": "print(var_dic_list())"
    },
    "r": {
     "delete_cmd_postfix": ") ",
     "delete_cmd_prefix": "rm(",
     "library": "var_list.r",
     "varRefreshCmd": "cat(var_dic_list()) "
    }
   },
   "types_to_exclude": [
    "module",
    "function",
    "builtin_function_or_method",
    "instance",
    "_Feature"
   ],
   "window_display": false
  }
 },
 "nbformat": 4,
 "nbformat_minor": 2
}

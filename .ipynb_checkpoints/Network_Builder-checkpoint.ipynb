{
 "cells": [
  {
   "cell_type": "code",
   "execution_count": 11,
   "metadata": {
    "ExecuteTime": {
     "end_time": "2019-05-25T17:05:40.252912Z",
     "start_time": "2019-05-25T17:05:40.244599Z"
    }
   },
   "outputs": [],
   "source": [
    "import tweepy\n",
    "import json\n",
    "from pymongo import MongoClient\n",
    "import networkx as nx"
   ]
  },
  {
   "cell_type": "code",
   "execution_count": 2,
   "metadata": {
    "ExecuteTime": {
     "end_time": "2019-05-25T16:48:06.414628Z",
     "start_time": "2019-05-25T16:48:06.409664Z"
    }
   },
   "outputs": [],
   "source": [
    "client = MongoClient()\n",
    "db = client.test_sabado"
   ]
  },
  {
   "cell_type": "code",
   "execution_count": 3,
   "metadata": {
    "ExecuteTime": {
     "end_time": "2019-05-25T16:48:31.461211Z",
     "start_time": "2019-05-25T16:48:31.456909Z"
    }
   },
   "outputs": [],
   "source": [
    "tweet_prueba = db.jornada_reflexion.find_one()"
   ]
  },
  {
   "cell_type": "code",
   "execution_count": 7,
   "metadata": {
    "ExecuteTime": {
     "end_time": "2019-05-25T16:49:31.843475Z",
     "start_time": "2019-05-25T16:49:31.830628Z"
    }
   },
   "outputs": [
    {
     "data": {
      "text/plain": [
       "'955165499381383169'"
      ]
     },
     "execution_count": 7,
     "metadata": {},
     "output_type": "execute_result"
    }
   ],
   "source": [
    "tweet_prueba['user']['id_str']"
   ]
  },
  {
   "cell_type": "code",
   "execution_count": 8,
   "metadata": {
    "ExecuteTime": {
     "end_time": "2019-05-25T16:50:07.679342Z",
     "start_time": "2019-05-25T16:50:07.671143Z"
    }
   },
   "outputs": [
    {
     "data": {
      "text/plain": [
       "'257951661'"
      ]
     },
     "execution_count": 8,
     "metadata": {},
     "output_type": "execute_result"
    }
   ],
   "source": [
    "tweet_prueba['retweeted_status']['user']['id_str']"
   ]
  },
  {
   "cell_type": "code",
   "execution_count": 9,
   "metadata": {
    "ExecuteTime": {
     "end_time": "2019-05-25T16:51:36.381201Z",
     "start_time": "2019-05-25T16:51:36.371389Z"
    }
   },
   "outputs": [
    {
     "name": "stdout",
     "output_type": "stream",
     "text": [
      "257951661\n"
     ]
    }
   ],
   "source": [
    "if 'retweeted_status' in tweet_prueba:\n",
    "    print(tweet_prueba['retweeted_status']['user']['id_str'])"
   ]
  },
  {
   "cell_type": "code",
   "execution_count": 15,
   "metadata": {
    "ExecuteTime": {
     "end_time": "2019-05-25T17:11:14.826910Z",
     "start_time": "2019-05-25T17:11:14.632256Z"
    }
   },
   "outputs": [],
   "source": [
    "G = nx.DiGraph()\n",
    "\n",
    "for result in db.jornada_reflexion.find():\n",
    "\n",
    "            uid = result['user']['screen_name']\n",
    "\n",
    "            G.add_node(uid) # si ya existe lo omite solo\n",
    "\n",
    "            if result['in_reply_to_screen_name']:\n",
    "\n",
    "                if G.has_edge(uid, result['in_reply_to_screen_name']):\n",
    "                    G[uid][result['in_reply_to_screen_name']]['weight'] += 1.0\n",
    "                else:\n",
    "                    G.add_edge(uid, result['in_reply_to_screen_name'], weight = 1.0)\n",
    "\n",
    "            if 'quoted_status' in result:\n",
    "\n",
    "                if G.has_edge(uid, result['quoted_status']['user']['screen_name']):\n",
    "                    G[uid][result['quoted_status']['user']['screen_name']]['weight'] += 1.0\n",
    "                else:\n",
    "                    G.add_edge(uid, result['quoted_status']['user']['screen_name'], weight = 1.0)\n",
    "\n",
    "            if 'retweeted_status' in result:\n",
    "\n",
    "                if G.has_edge(uid, result['retweeted_status']['user']['screen_name']):\n",
    "                    G[uid][result['retweeted_status']['user']['screen_name']]['weight'] += 1.0\n",
    "                else:\n",
    "                    G.add_edge(uid, result['retweeted_status']['user']['screen_name'], weight = 1.0) \n",
    "\n",
    "\n",
    "# GUARDO GRAFO PARCIAL                \n",
    "nx.write_graphml(G, \"test_clase_2.graphml\")"
   ]
  },
  {
   "cell_type": "code",
   "execution_count": null,
   "metadata": {},
   "outputs": [],
   "source": []
  }
 ],
 "metadata": {
  "kernelspec": {
   "display_name": "Python 3",
   "language": "python",
   "name": "python3"
  },
  "language_info": {
   "codemirror_mode": {
    "name": "ipython",
    "version": 3
   },
   "file_extension": ".py",
   "mimetype": "text/x-python",
   "name": "python",
   "nbconvert_exporter": "python",
   "pygments_lexer": "ipython3",
   "version": "3.7.1"
  },
  "varInspector": {
   "cols": {
    "lenName": 16,
    "lenType": 16,
    "lenVar": 40
   },
   "kernels_config": {
    "python": {
     "delete_cmd_postfix": "",
     "delete_cmd_prefix": "del ",
     "library": "var_list.py",
     "varRefreshCmd": "print(var_dic_list())"
    },
    "r": {
     "delete_cmd_postfix": ") ",
     "delete_cmd_prefix": "rm(",
     "library": "var_list.r",
     "varRefreshCmd": "cat(var_dic_list()) "
    }
   },
   "types_to_exclude": [
    "module",
    "function",
    "builtin_function_or_method",
    "instance",
    "_Feature"
   ],
   "window_display": false
  }
 },
 "nbformat": 4,
 "nbformat_minor": 2
}
